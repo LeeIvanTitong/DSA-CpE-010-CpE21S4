{
  "nbformat": 4,
  "nbformat_minor": 0,
  "metadata": {
    "colab": {
      "provenance": [],
      "authorship_tag": "ABX9TyN4FGay2voXw5cjHYAi6F6z",
      "include_colab_link": true
    },
    "kernelspec": {
      "name": "python3",
      "display_name": "Python 3"
    },
    "language_info": {
      "name": "python"
    }
  },
  "cells": [
    {
      "cell_type": "markdown",
      "metadata": {
        "id": "view-in-github",
        "colab_type": "text"
      },
      "source": [
        "<a href=\"https://colab.research.google.com/github/LeeIvanTitong/DSA-CpE-010-CpE21S4/blob/main/DSA_EXERCISE2.ipynb\" target=\"_parent\"><img src=\"https://colab.research.google.com/assets/colab-badge.svg\" alt=\"Open In Colab\"/></a>"
      ]
    },
    {
      "cell_type": "code",
      "source": [
        "class Shape():\n",
        "    def __init__(self, length, width, side, base, height):\n",
        "        self.length = length\n",
        "        self.width = width\n",
        "        self.side = side\n",
        "        self.base = base\n",
        "        self.height = height\n",
        "\n",
        "    def Area_Rectangle(self):\n",
        "        return self.length * self.width\n",
        "\n",
        "    def Area_Square(self):\n",
        "        return self.side ** 2\n",
        "\n",
        "    def Area_Triangle(self):\n",
        "        return 0.5 * self.base * self.height\n",
        "\n",
        "\n",
        "\n",
        "class Rectangle(Shape):\n",
        "    def __init__(self, length, width):\n",
        "        self.length = length\n",
        "        self.width = width\n",
        "\n",
        "    def area(self):\n",
        "        return self.Area_Rectangle()\n",
        "\n",
        "\n",
        "class Square(Shape):\n",
        "    def __init__(self, side):\n",
        "        self.side = side\n",
        "\n",
        "    def area(self):\n",
        "        return self.Area_Square()\n",
        "\n",
        "class Triangle(Shape):\n",
        "    def __init__(self, base, height):\n",
        "        self.base = base\n",
        "        self.height = height\n",
        "\n",
        "    def area(self):\n",
        "        return self.Area_Triangle()\n",
        "\n",
        "rectangle = Rectangle(length=5, width=3)\n",
        "print(f\"Area of the rectangle: {rectangle.area()}\")\n",
        "\n",
        "square = Square(side=4)\n",
        "print(f\"Area of the square: {square.area()}\")\n",
        "\n",
        "triangle = Triangle(base=6, height=8)\n",
        "print(f\"Area of the triangle: {triangle.area()}\")"
      ],
      "metadata": {
        "id": "UB-ALG7j5YQv",
        "colab": {
          "base_uri": "https://localhost:8080/"
        },
        "outputId": "63f1a591-1d60-41c1-a2f5-429b8bb33200"
      },
      "execution_count": null,
      "outputs": [
        {
          "output_type": "stream",
          "name": "stdout",
          "text": [
            "Area of the rectangle: 15\n",
            "Area of the square: 16\n",
            "Area of the triangle: 24.0\n"
          ]
        }
      ]
    }
  ]
}