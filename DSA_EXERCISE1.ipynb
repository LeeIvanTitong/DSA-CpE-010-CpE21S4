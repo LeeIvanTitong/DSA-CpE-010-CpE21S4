{
  "nbformat": 4,
  "nbformat_minor": 0,
  "metadata": {
    "colab": {
      "provenance": [],
      "authorship_tag": "ABX9TyMhkj3CSLctM0cwe89FQQZa",
      "include_colab_link": true
    },
    "kernelspec": {
      "name": "python3",
      "display_name": "Python 3"
    },
    "language_info": {
      "name": "python"
    }
  },
  "cells": [
    {
      "cell_type": "markdown",
      "metadata": {
        "id": "view-in-github",
        "colab_type": "text"
      },
      "source": [
        "<a href=\"https://colab.research.google.com/github/LeeIvanTitong/DSA-CpE-010-CpE21S4/blob/main/DSA_EXERCISE1.ipynb\" target=\"_parent\"><img src=\"https://colab.research.google.com/assets/colab-badge.svg\" alt=\"Open In Colab\"/></a>"
      ]
    },
    {
      "cell_type": "markdown",
      "source": [
        "Exercise 1 (Class Constructor and Method)\n",
        "1. Develop a python program that computes the area of a rectangle shape\n",
        "2. Use a Rectangle () as a class name\n",
        "3. Use attributes length and width\n",
        "4. Calculate the Area() of this rectangle\n",
        "5. Display the computed area of a rectangle.\n",
        "\n",
        "Note:  OOP concepts of a computing the area of a"
      ],
      "metadata": {
        "id": "E6t0bSu6m6jT"
      }
    },
    {
      "cell_type": "code",
      "source": [
        "def Rectangle():\n",
        "\n",
        "  length = int(input(\"Enter the length of the rectangle: \"))\n",
        "  width = int(input(\"Enter the width of the rectangle: \"))\n",
        "  area = length * width\n",
        "\n",
        "  print(\"Area of a rectangle:\", area)\n",
        "\n",
        "\n",
        "\n",
        "Rectangle()\n"
      ],
      "metadata": {
        "id": "PUDHcwaCpOFT",
        "colab": {
          "base_uri": "https://localhost:8080/"
        },
        "outputId": "f9692621-ee9d-417e-f271-92365f8682d1"
      },
      "execution_count": null,
      "outputs": [
        {
          "output_type": "stream",
          "name": "stdout",
          "text": [
            "Enter the length of the rectangle: 5\n",
            "Enter the width of the rectangle: 5\n",
            "Area of a rectangle:\n",
            "25\n"
          ]
        }
      ]
    }
  ]
}